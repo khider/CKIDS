{
 "cells": [
  {
   "cell_type": "markdown",
   "metadata": {},
   "source": [
    "# Causality analysis - Paleoclimate timeseries\n",
    "\n",
    "This notebook showcases the current capabilities of Pyleoclim, a python package for the analysis of paleoclimate data. In particular, it summarizes the effort to include the Liang causality algorithm implemented in Python by Han Wu as part of the CKIDS DataFest in Spring 2019.\n",
    "\n",
    "<div class=\"alert alert-warning\" role=\"alert\" style=\"margin: 10px\">\n",
    "<p>NOTE</p>\n",
    "<p> The Liang causality algorithm highlighted here is still in development as of April 25th 2019 and hasn't been released as part of a stable Pyleoclim version. It can be accessed through the development branch of the project on  <a href='https://github.com/LinkedEarth/Pyleoclim_util'>Github</a> </p>\n",
    "</div>  \n",
    "\n",
    "**Table of Contents**\n",
    "* [Overview](#overview)\n",
    "    * [Overall project goals](#autoTS)\n",
    "    * [Pyleoclim](#pyleoclim)\n",
    "        * [What is it?](#what)\n",
    "        * [Current capabilities](#current)\n",
    "* [Available data](#data)\n",
    "    * [Paleoclimate Science Version](#sci)\n",
    "    * [Computer Science version](#comp)\n",
    "    * [LinkedEarth](#linkedearth)\n",
    "* [Correlation](#corr)\n",
    "* [Causality](#caus)\n",
    "* [Future Work](#future)\n",
    "    * [Testing the Liang Algorithm](#testing)\n",
    "    * [Pyleoclim updates](#updates)\n",
    "    * [Applying Pyleoclim (autoTS) to a science problem](#application) \n",
    "\n",
    "## <a name='overview'> Overview </a>\n",
    "### <a name='autoTs'> Overall Project goals </a>\n",
    "### <a name = 'pyleoclim'> Pyleoclim </a>\n",
    "#### <a name = 'what'> What is it? </a>\n",
    "\n",
    "Pyleoclim is a Python package primarily geared towards the analysis and visualization of paleoclimate data. Such data often come in the form of **timeseries** with missing values and age uncertainties, so the package includes several low-level methods to deal with this issues, as well as high-level methods that re-use thoses within scientific workflows.\n",
    "\n",
    "High-level modelules assume that data are stored in the Linked Paleo Data (<a href='http://www.clim-past.net/12/1093/2016/'>LiPD</a>) format and makes extensive use of the <a href='http://nickmckay.github.io/LiPD-utilities/'> LiPD utilities </a>.\n",
    "\n",
    "#### <a name = 'current'>Current Capabilities</a>\n",
    "* Plotting maps, timeseries, and basic age model information <span style=\"background-color: #FFFF00\">Migration from Basemap to Cartopy during DataFest Spring 2019</span> \n",
    "* Binning and interpolation\n",
    "* Standardization\n",
    "* Paleo-aware correlation analysis (isopersistent, isospectral and classical t-test)\n",
    "* Weighted wavelet Z transform (WWZ) and associated coherence analysis\n",
    "* Age modelling through Bchron - Bayesian algorithm\n",
    "* Liang information flow analysis - <span style=\"background-color: #FFFF00\">NEW from DataFest Spring 2019</span>"
   ]
  },
  {
   "cell_type": "code",
   "execution_count": 1,
   "metadata": {},
   "outputs": [],
   "source": [
    "import pyleoclim as pyleo"
   ]
  },
  {
   "cell_type": "markdown",
   "metadata": {},
   "source": [
    "## <a name='data'> Available Data </a>\n",
    "### <a name='#sci'> Paleoclimate Science Version </a>\n",
    "\n",
    "Climate observations prior to the instrumental era are necessarily indirect. These observations are made on climate proxies in various geological (e.g. lake or marine sediments, living or fossil coral reefs, cave deposits), glaciological (ice cores or snow pits) or biological (trees) archives. Many types of data can often be collected from each archives, each sensing a different aspect of the environment (sometimes, several aspects at once). A paleoclimate dataset is almost always a time series of observations made on an archive.\n",
    "\n",
    "\n",
    "<img src=\"http://wiki.linked.earth/wiki/images/5/5f/PSM.jpg\">\n",
    "<i>Conceptual proxy system model after Evans et al. (2013). An archive is the medium in which the response of a sensor to environmental forcing being recorded. Source: <a href='http://wiki.linked.earth/Climate_Proxy'> LinkedEarth Wiki </a></i>\n",
    "\n",
    "\n",
    "<img src=\"https://www2.usgs.gov/landresources/lcs/paleoclimate/images/arch.png\" height=\"600\" width=\"600\">\n",
    "<i> Example of climate proxies. Source: <a href='https://www2.usgs.gov/landresources/lcs/paleoclimate/'>USGS</a>.</i>\n",
    "\n",
    "### <a name='comp'> Computer Science Version </a>\n",
    "\n",
    "* **What? Timeseries data**\n",
    "    ** Sampling rate varies by sample. Usually uneven requiring imputation or methods designed to deal with unevenly-spaced data\n",
    "* **How? LiPD**\n",
    "    ** The Linked Paleo Data Format (LiPD) is a universally-readable container that organizes data and metadata in a uniform way. The data is stored in CSV files while the meteadata is stored in JSON-LD.\n",
    "    \n",
    "<img src=\"http://wiki.linked.earth/wiki/images/d/db/Lipd_structure.png\" height=\"600\" width=\"600\">\n",
    "<i> Structure of a LiPD file. Source: <a href='http://wiki.linked.earth/Linked_Paleo_Data'> LinkedEarth Wiki </a> </i>\n",
    "    \n",
    "* **Where? LinkedEarth**\n",
    "\n",
    "\n"
   ]
  },
  {
   "cell_type": "markdown",
   "metadata": {},
   "source": [
    "### "
   ]
  }
 ],
 "metadata": {
  "kernelspec": {
   "display_name": "Python 3",
   "language": "python",
   "name": "python3"
  },
  "language_info": {
   "codemirror_mode": {
    "name": "ipython",
    "version": 3
   },
   "file_extension": ".py",
   "mimetype": "text/x-python",
   "name": "python",
   "nbconvert_exporter": "python",
   "pygments_lexer": "ipython3",
   "version": "3.6.7"
  }
 },
 "nbformat": 4,
 "nbformat_minor": 2
}
